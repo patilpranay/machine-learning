{
 "cells": [
  {
   "cell_type": "markdown",
   "metadata": {
    "collapsed": true
   },
   "source": [
    "# Simple Discrete-Time, Finite Time Horizon, Linear Quadratic Regulator (LQR) Implementation"
   ]
  },
  {
   "cell_type": "code",
   "execution_count": 1,
   "metadata": {
    "collapsed": true
   },
   "outputs": [],
   "source": [
    "# import statements\n",
    "import numpy as np"
   ]
  },
  {
   "cell_type": "code",
   "execution_count": 21,
   "metadata": {
    "collapsed": false
   },
   "outputs": [],
   "source": [
    "# LQR routine\n",
    "\n",
    "def lqr(A, B, Q, R, Q_f, N):\n",
    "    \"\"\"\n",
    "    A, B      : state dynamics matrices (for x_t+1 = Ax_t + Bu_t)\n",
    "    Q, R, Q_f : state and input weight matrices for function to be minimized\n",
    "    N         : length of finite time horizon\n",
    "    \"\"\"\n",
    "    \n",
    "    # lists for P and K where element t represents P_t and K_t, respectively\n",
    "    P = []\n",
    "    K = []\n",
    "    \n",
    "    # P_N = Q_f\n",
    "    P.insert(0, Q_f)\n",
    "    \n",
    "    # K_N = 0\n",
    "    K.insert(0, 0)\n",
    "    \n",
    "    # work backwards from N-1 to 0\n",
    "    for i in range(N-1, -1, -1):\n",
    "        # calculate K_t\n",
    "        temp1 = np.linalg.inv(R+np.dot(B.T, np.dot(P[0], B)))\n",
    "        temp2 = np.dot(B.T, np.dot(P[0], A))\n",
    "        K_t = np.dot(temp1, temp2)\n",
    "        \n",
    "        # calculate P_t\n",
    "        AplusBK = A + np.dot(B, K_t)\n",
    "        P_t = Q + np.dot(K_t.T, np.dot(R, K_t)) + np.dot(AplusBK.T, np.dot(P[0], AplusBK))\n",
    "        \n",
    "        # add our calculations to the beginning of the lists (since we are working backwards)\n",
    "        K.insert(0, K_t)\n",
    "        P.insert(0, P_t)\n",
    "    \n",
    "    return P, K"
   ]
  },
  {
   "cell_type": "code",
   "execution_count": 22,
   "metadata": {
    "collapsed": false
   },
   "outputs": [],
   "source": [
    "# routine to determine optimal cost-to-go and optimal control given an initial state x_0\n",
    "\n",
    "def optimalCostAndControl(x_0, P, K, A, B, C):\n",
    "    \"\"\"\n",
    "    x_0     : the initial state\n",
    "    P, K    : matrices used to update optimal cost and control, respectively\n",
    "    A, B, C : state dynamics matrices (for x_t+1 = Ax_t + Bu_t, y = Cx_t)\n",
    "    \"\"\"\n",
    "    \n",
    "    # lists for optimal cost and control where element t represents J_t and u_t, respectively\n",
    "    J = []\n",
    "    U = []\n",
    "    \n",
    "    # lists for state and output where element t represents x_t and y_t, respectively\n",
    "    X = []\n",
    "    Y = []\n",
    "    \n",
    "    # setting x_0\n",
    "    X.append(x_0)\n",
    "    \n",
    "    # since P also contains P_N, we need to subtract one to get range [0, N-1]\n",
    "    for i in range((len(P) - 1)):\n",
    "        # calculate J_i and u_i\n",
    "        J.append(np.dot(X[i].T, np.dot(P[i], X[i])))\n",
    "        U.append(-1 * np.dot(K[i], X[i]))\n",
    "        \n",
    "        # calculate x_i+1 and y_i\n",
    "        X.append(np.dot(A, X[i]) + np.dot(B, U[i]))\n",
    "        Y.append(np.dot(C, X[i]))\n",
    "    \n",
    "    return J, U, X, Y"
   ]
  },
  {
   "cell_type": "code",
   "execution_count": 23,
   "metadata": {
    "collapsed": false
   },
   "outputs": [],
   "source": [
    "# example using routines written above where we want to control output instead of state\n",
    "\n",
    "A = np.matrix([[1, 1], [0, 1]])\n",
    "B = np.matrix([[0], [1]])\n",
    "C = np.matrix([[1, 0]])\n",
    "\n",
    "x_0 = np.matrix([[1], [0]])\n",
    "N = 20"
   ]
  },
  {
   "cell_type": "code",
   "execution_count": 24,
   "metadata": {
    "collapsed": false
   },
   "outputs": [
    {
     "ename": "ValueError",
     "evalue": "shapes (2,2) and (1,2) not aligned: 2 (dim 1) != 1 (dim 0)",
     "output_type": "error",
     "traceback": [
      "\u001b[0;31m---------------------------------------------------------------------------\u001b[0m",
      "\u001b[0;31mValueError\u001b[0m                                Traceback (most recent call last)",
      "\u001b[0;32m<ipython-input-24-d58fd70488d4>\u001b[0m in \u001b[0;36m<module>\u001b[0;34m()\u001b[0m\n\u001b[1;32m      2\u001b[0m \u001b[0mp_q\u001b[0m \u001b[0;34m=\u001b[0m \u001b[0;36m1\u001b[0m\u001b[0;34m\u001b[0m\u001b[0m\n\u001b[1;32m      3\u001b[0m \u001b[0mQ\u001b[0m \u001b[0;34m=\u001b[0m \u001b[0mp_q\u001b[0m \u001b[0;34m*\u001b[0m \u001b[0mnp\u001b[0m\u001b[0;34m.\u001b[0m\u001b[0midentity\u001b[0m\u001b[0;34m(\u001b[0m\u001b[0;36m2\u001b[0m\u001b[0;34m)\u001b[0m\u001b[0;34m\u001b[0m\u001b[0m\n\u001b[0;32m----> 4\u001b[0;31m \u001b[0mQ_new\u001b[0m \u001b[0;34m=\u001b[0m \u001b[0mnp\u001b[0m\u001b[0;34m.\u001b[0m\u001b[0mdot\u001b[0m\u001b[0;34m(\u001b[0m\u001b[0mC\u001b[0m\u001b[0;34m.\u001b[0m\u001b[0mT\u001b[0m\u001b[0;34m,\u001b[0m \u001b[0mnp\u001b[0m\u001b[0;34m.\u001b[0m\u001b[0mdot\u001b[0m\u001b[0;34m(\u001b[0m\u001b[0mQ\u001b[0m\u001b[0;34m,\u001b[0m \u001b[0mC\u001b[0m\u001b[0;34m)\u001b[0m\u001b[0;34m)\u001b[0m\u001b[0;34m\u001b[0m\u001b[0m\n\u001b[0m\u001b[1;32m      5\u001b[0m \u001b[0mQ_f\u001b[0m \u001b[0;34m=\u001b[0m \u001b[0mnp\u001b[0m\u001b[0;34m.\u001b[0m\u001b[0mzeros\u001b[0m\u001b[0;34m(\u001b[0m\u001b[0;34m(\u001b[0m\u001b[0;36m2\u001b[0m\u001b[0;34m,\u001b[0m \u001b[0;36m2\u001b[0m\u001b[0;34m)\u001b[0m\u001b[0;34m)\u001b[0m\u001b[0;34m\u001b[0m\u001b[0m\n\u001b[1;32m      6\u001b[0m \u001b[0;34m\u001b[0m\u001b[0m\n",
      "\u001b[0;31mValueError\u001b[0m: shapes (2,2) and (1,2) not aligned: 2 (dim 1) != 1 (dim 0)"
     ]
    }
   ],
   "source": [
    "# case 1: TODO\n",
    "p_q = 1\n",
    "Q = p_q * np.identity(2)\n",
    "Q_new = np.dot(C.T, np.dot(Q, C))\n",
    "Q_f = np.zeros((2, 2))\n",
    "\n",
    "R = 1\n",
    "\n",
    "P, K = lqr(A, B, Q_new, R, Q_f, N)\n",
    "J, U, X, Y = optimalCostAndControl(x_0, P, K, A, B, C)"
   ]
  },
  {
   "cell_type": "code",
   "execution_count": null,
   "metadata": {
    "collapsed": true
   },
   "outputs": [],
   "source": []
  }
 ],
 "metadata": {
  "anaconda-cloud": {},
  "kernelspec": {
   "display_name": "Python 2",
   "language": "python",
   "name": "python2"
  },
  "language_info": {
   "codemirror_mode": {
    "name": "ipython",
    "version": 2
   },
   "file_extension": ".py",
   "mimetype": "text/x-python",
   "name": "python",
   "nbconvert_exporter": "python",
   "pygments_lexer": "ipython2",
   "version": "2.7.11"
  }
 },
 "nbformat": 4,
 "nbformat_minor": 0
}
